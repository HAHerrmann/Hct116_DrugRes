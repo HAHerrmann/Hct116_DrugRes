{
 "cells": [
  {
   "cell_type": "code",
   "execution_count": null,
   "metadata": {},
   "outputs": [],
   "source": [
    "# Import the general functions for metabolic modelling\n",
    "%run 'general_functions.ipynb'"
   ]
  },
  {
   "cell_type": "code",
   "execution_count": null,
   "metadata": {},
   "outputs": [],
   "source": [
    "# model_wt = cobra.io.read_sbml_model(\"../Models/Colon_Combined_exo_WT.xml\")\n",
    "# model_oxr = cobra.io.read_sbml_model(\"../Models/Colon_Combined_exo_OxR.xml\")\n",
    "# model_dmso = cobra.io.read_sbml_model(\"../Models/Colon_Combined_exo_WT+DMSO.xml\")\n",
    "# model_rur = cobra.io.read_sbml_model(\"../Models/Colon_Combined_exo_RuR+DMSO.xml\")\n",
    "# models = [model_wt,model_oxr,model_dmso,model_rur]\n",
    "\n",
    "model_wt = cobra.io.read_sbml_model(\"../Models/Colon_Combined_exo_woBile_WT.xml\")\n",
    "model_oxr = cobra.io.read_sbml_model(\"../Models/Colon_Combined_exo_woBile_OxR.xml\")\n",
    "model_dmso = cobra.io.read_sbml_model(\"../Models/Colon_Combined_exo_woBile_WT+DMSO.xml\")\n",
    "model_rur = cobra.io.read_sbml_model(\"../Models/Colon_Combined_exo_woBile_RuR+DMSO.xml\")\n",
    "models = [model_wt,model_oxr,model_dmso,model_rur]\n",
    "\n",
    "# Note: As there is no evidence for the bile metabolism to be active in HCT116 cell lines,\n",
    "# the associated reactions were removed in the exometabo_constrain.ipynb file to reduce\n",
    "# the overall model complexity. "
   ]
  },
  {
   "cell_type": "code",
   "execution_count": null,
   "metadata": {},
   "outputs": [],
   "source": [
    "# Load the thermodynamic database from Masid et al. 2020\n",
    "thermo_data = load_thermoDB('../Data/thermo_data.thermodb')\n",
    "# Load the metabolite concentrations with which to constrain\n",
    "# the thermodynamic model \n",
    "met_conc = pickle.load(open(\"../Data/metabo_conc_abs.pkl\",\"rb\"))\n",
    "# following names are not found in model\n",
    "met_conc.pop('(R)-mevalonate') \n",
    "met_conc.pop('D-gluconic acid') \n",
    "met_conc.pop('ribose') "
   ]
  },
  {
   "cell_type": "code",
   "execution_count": null,
   "metadata": {},
   "outputs": [],
   "source": [
    "# Apply thermodynamic constraints to each of the model instances \n",
    "models = [model_wt,model_oxr,model_dmso,model_rur] #\n",
    "names = ['Control','OxR','Control_DMSO','RuR'] #\n",
    "tva_fluxes = []\n",
    "for model,name in zip(models,names):\n",
    "    model.solver = \"gurobi\"\n",
    "    print(model.optimize())\n",
    "    # Need to annotate the model to use the local thermodynamic database\n",
    "    annotate_model_recon(model)\n",
    "    annotate_model_kegg(model,disp=True) \n",
    "    copy_compartments_recon(model,name_length=0)\n",
    "    solution = model.optimize()\n",
    "    print(solution)\n",
    "    # Convert model to thermodynamic model\n",
    "    model.name = 'ThermoModel_{}'.format(name)\n",
    "    apply_solver_settings(model,'optlang_gurobi')\n",
    "    # Set up the thermodynamic model\n",
    "    tmodel = create_thermo_model(thermo_data,model)\n",
    "    # Apply the default thermodynamic constraints\n",
    "    tmodel = met_conc_set_default(tmodel)\n",
    "    # Constrain the thermodynamic model according to condition \n",
    "    apply_met_const(tmodel,met_conc,name)\n",
    "    solution = tmodel.optimize()\n",
    "    print(solution)\n",
    "    add_pfba_constraint(tmodel)\n",
    "    save_json_model(tmodel,\"../Models/tmodel_{}.json\".format(name))\n",
    "    tva_fluxes.append(tfva(tmodel,name))"
   ]
  }
 ],
 "metadata": {
  "kernelspec": {
   "display_name": "Python 3.7 (with gurobi)",
   "language": "python",
   "name": "guropy"
  },
  "language_info": {
   "codemirror_mode": {
    "name": "ipython",
    "version": 3
   },
   "file_extension": ".py",
   "mimetype": "text/x-python",
   "name": "python",
   "nbconvert_exporter": "python",
   "pygments_lexer": "ipython3",
   "version": "3.7.9"
  }
 },
 "nbformat": 4,
 "nbformat_minor": 4
}
